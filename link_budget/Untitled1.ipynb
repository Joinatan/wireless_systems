{
 "cells": [
  {
   "cell_type": "code",
   "execution_count": 2,
   "id": "62ef7496",
   "metadata": {},
   "outputs": [
    {
     "data": {
      "text/plain": [
       "63.09573444801933"
      ]
     },
     "execution_count": 2,
     "metadata": {},
     "output_type": "execute_result"
    }
   ],
   "source": [
    "import numpy as np\n",
    "snr = 795\n",
    "10**(1.8)"
   ]
  },
  {
   "cell_type": "code",
   "execution_count": 13,
   "id": "b6ec7df1",
   "metadata": {},
   "outputs": [
    {
     "data": {
      "text/plain": [
       "7.069653456853455"
      ]
     },
     "execution_count": 13,
     "metadata": {},
     "output_type": "execute_result"
    }
   ],
   "source": [
    "np.sqrt(0.01666 *(6000**2/12000))"
   ]
  },
  {
   "cell_type": "code",
   "execution_count": 14,
   "id": "d19a2d13",
   "metadata": {},
   "outputs": [
    {
     "data": {
      "text/plain": [
       "-62.02732459169283"
      ]
     },
     "execution_count": 14,
     "metadata": {},
     "output_type": "execute_result"
    }
   ],
   "source": [
    "10 * np.log10(6.27e-7)"
   ]
  },
  {
   "cell_type": "code",
   "execution_count": 16,
   "id": "39efcd6c",
   "metadata": {},
   "outputs": [
    {
     "data": {
      "text/plain": [
       "0.016666666666666666"
      ]
     },
     "execution_count": 16,
     "metadata": {},
     "output_type": "execute_result"
    }
   ],
   "source": [
    "3e8/18e9"
   ]
  },
  {
   "cell_type": "code",
   "execution_count": 17,
   "id": "63c51f9a",
   "metadata": {},
   "outputs": [
    {
     "data": {
      "text/plain": [
       "38.45903838898782"
      ]
     },
     "execution_count": 17,
     "metadata": {},
     "output_type": "execute_result"
    }
   ],
   "source": [
    "10 * np.log10(7013)"
   ]
  },
  {
   "cell_type": "code",
   "execution_count": 22,
   "id": "5dd32b61",
   "metadata": {},
   "outputs": [
    {
     "data": {
      "text/plain": [
       "0.19858413446317327"
      ]
     },
     "execution_count": 22,
     "metadata": {},
     "output_type": "execute_result"
    }
   ],
   "source": [
    "ae = np.sqrt((6.84e-4 * 4)/ (0.56 * np.pi))\n"
   ]
  },
  {
   "cell_type": "code",
   "execution_count": 36,
   "id": "2ca9ffb5",
   "metadata": {},
   "outputs": [
    {
     "data": {
      "text/plain": [
       "18.163279005237428"
      ]
     },
     "execution_count": 36,
     "metadata": {},
     "output_type": "execute_result"
    }
   ],
   "source": [
    "10*np.log10(25) + 8 + 2.15 - 5 - 10*np.log10(25e3 * 290 * 1.38e-23) - 31.5 - 35*np.log10(5e3)"
   ]
  },
  {
   "cell_type": "code",
   "execution_count": 34,
   "id": "f6d95cef",
   "metadata": {},
   "outputs": [
    {
     "data": {
      "text/plain": [
       "2.1484384804769787"
      ]
     },
     "execution_count": 34,
     "metadata": {},
     "output_type": "execute_result"
    }
   ],
   "source": [
    "10*np.log10(1.64)"
   ]
  },
  {
   "cell_type": "code",
   "execution_count": 89,
   "id": "db290e75",
   "metadata": {},
   "outputs": [
    {
     "name": "stdout",
     "output_type": "stream",
     "text": [
      "pt -20.0\n",
      "lfs 137.55069733902656\n",
      "noise -128.66243998657552\n",
      "gain 1544634.516011051\n"
     ]
    },
    {
     "data": {
      "text/plain": [
       "8.810848445292727"
      ]
     },
     "execution_count": 89,
     "metadata": {},
     "output_type": "execute_result"
    }
   ],
   "source": [
    "pt = 10*np.log10(10e-3)\n",
    "lfs = 20 * np.log10(10e3 * 4 * np.pi / 0.01666)\n",
    "noise = 10 * np.log10(1.38e-23 * 290 * 34e6)\n",
    "print('pt', 10*np.log10(10e-3))\n",
    "print('lfs', 20 * np.log10(10e3 * 4 * np.pi / 0.01666))\n",
    "print('noise', 10 * np.log10(1.38e-23 * 290 * 34e6))\n",
    "gain2 = pt - lfs - noise - 30 - 3 \n",
    "gain = -1 * gain2\n",
    "absGain = 10**(gain/10)\n",
    "print('gain', absGain)\n",
    "#10 * np.log10(np.sqrt(0.01666 * absGain / (np.pi**2 * 0.57)))\n",
    "Ae = (3e8**2 * absGain) / (4 * np.pi * 18e9**2)\n",
    "d = np.sqrt((4 * Ae) / (0.56 * np.pi))\n",
    "d"
   ]
  },
  {
   "cell_type": "code",
   "execution_count": 83,
   "id": "13289ed0",
   "metadata": {},
   "outputs": [
    {
     "data": {
      "text/plain": [
       "9e+16"
      ]
     },
     "execution_count": 83,
     "metadata": {},
     "output_type": "execute_result"
    }
   ],
   "source": [
    "(3e8)**2"
   ]
  },
  {
   "cell_type": "code",
   "execution_count": 84,
   "id": "64026157",
   "metadata": {},
   "outputs": [
    {
     "data": {
      "text/plain": [
       "90000000000000000"
      ]
     },
     "execution_count": 84,
     "metadata": {},
     "output_type": "execute_result"
    }
   ],
   "source": [
    "(300000000**2)"
   ]
  },
  {
   "cell_type": "code",
   "execution_count": null,
   "id": "c2349a91",
   "metadata": {},
   "outputs": [],
   "source": [
    "90000000000000000"
   ]
  }
 ],
 "metadata": {
  "kernelspec": {
   "display_name": "Python 3 (ipykernel)",
   "language": "python",
   "name": "python3"
  },
  "language_info": {
   "codemirror_mode": {
    "name": "ipython",
    "version": 3
   },
   "file_extension": ".py",
   "mimetype": "text/x-python",
   "name": "python",
   "nbconvert_exporter": "python",
   "pygments_lexer": "ipython3",
   "version": "3.10.9"
  }
 },
 "nbformat": 4,
 "nbformat_minor": 5
}

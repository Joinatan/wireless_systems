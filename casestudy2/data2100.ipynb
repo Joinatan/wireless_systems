{
 "cells": [
  {
   "cell_type": "code",
   "execution_count": 2,
   "id": "ed963376",
   "metadata": {},
   "outputs": [],
   "source": [
    "from matplotlib import pyplot as plt\n",
    "import numpy as np"
   ]
  },
  {
   "cell_type": "code",
   "execution_count": 8,
   "id": "fd3d3bee",
   "metadata": {},
   "outputs": [
    {
     "name": "stdout",
     "output_type": "stream",
     "text": [
      "Network capacity STHLM (Mb/s) 439.36142362204725\n",
      "User demand STHLM 482.0452766362253\n"
     ]
    }
   ],
   "source": [
    "tre_market_share = 0.164\n",
    "swedish_population = 10e6\n",
    "urban_stockholm_population = 1e6\n",
    "total_bandwidth = 139.6e6\n",
    "lost_bandwidth = 10e6\n",
    "lost_bandwidth_percent = lost_bandwidth/total_bandwidth\n",
    "\n",
    "#urban area (stockholm)\n",
    "pop_per_km_sthlm = 5000\n",
    "#bytes_per_year = 3000000e12 * tre_market_share\n",
    "bytes_per_year = 686_814.887e12\n",
    "bytes_per_year_2023 = 806_814.887e12\n",
    "bytes_per_year_2025 = 1116_814.987e12\n",
    "bytes_per_year_2026 = 1266_814.987e12\n",
    "average_kbit_sec_busyhour = bytes_per_year_2026 * 8 / (365 * 8 * 60 * 60 * 1000)\n",
    "average_kbit_sec_busyhour_per_person = average_kbit_sec_busyhour / swedish_population\n",
    "kbit_sqrkm_sthlm = pop_per_km_sthlm * average_kbit_sec_busyhour_per_person\n",
    "\n",
    "#rural area\n",
    "pop_per_km_rural = 20\n",
    "kbit_sqrkm_rural = pop_per_km_rural * average_kbit_sec_busyhour_per_person\n",
    "\n",
    "#spectral efficiency\n",
    "#https://www.gsma.com/spectrum/wp-content/uploads/2019/06/Benefits-of-Technology-Neutral-Spectrum-Licences.pdf\n",
    "efficiency3g = 0.8\n",
    "efficiency4g = 1.9\n",
    "efficiency5g = 2.84\n",
    "efficiency3g_4g_mix = (efficiency3g * 0.5) + (efficiency4g * 0.5)\n",
    "efficiency4g_5g_mix = (efficiency4g * 0.5) + (efficiency5g * 0.5)\n",
    "\n",
    "#----------Can moving from 3G to 4G/5G be sufficient in some cases? \n",
    "eight_hundred_band_percentage = 20e6/total_bandwidth\n",
    "nine_hundred_band_percentage = 10e6/total_bandwidth\n",
    "two_gig1_band_percentage = (19.8 * 2e6)/total_bandwidth\n",
    "two_gig6_band_percentage = 70e6/total_bandwidth\n",
    "\n",
    "tre_base_stations = tre_market_share * 43068\n",
    "sthlm_area = 381 #km2\n",
    "base_stations_sthlm = tre_base_stations * 0.1 #population 1million\n",
    "network_capacity_sthlm = ((total_bandwidth - 19.8 * 2e6)/1e6 * efficiency4g_5g_mix * (base_stations_sthlm) *\n",
    "                          1 / sthlm_area)\n",
    "print('Network capacity STHLM (Mb/s)', network_capacity_sthlm)\n",
    "print('User demand STHLM', kbit_sqrkm_sthlm/1000)"
   ]
  },
  {
   "cell_type": "code",
   "execution_count": null,
   "id": "9b539fa8",
   "metadata": {},
   "outputs": [],
   "source": []
  }
 ],
 "metadata": {
  "kernelspec": {
   "display_name": "Python 3 (ipykernel)",
   "language": "python",
   "name": "python3"
  },
  "language_info": {
   "codemirror_mode": {
    "name": "ipython",
    "version": 3
   },
   "file_extension": ".py",
   "mimetype": "text/x-python",
   "name": "python",
   "nbconvert_exporter": "python",
   "pygments_lexer": "ipython3",
   "version": "3.10.9"
  }
 },
 "nbformat": 4,
 "nbformat_minor": 5
}
